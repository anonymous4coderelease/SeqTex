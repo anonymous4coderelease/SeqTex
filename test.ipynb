{
 "cells": [
  {
   "cell_type": "code",
   "execution_count": 3,
   "id": "c6aca898",
   "metadata": {},
   "outputs": [
    {
     "name": "stdout",
     "output_type": "stream",
     "text": [
      "Renamed: seq3d_6e6e2ac8986e4fc1bb7c046208e2dacd_0_21_video0001-0060.mp4 to 6e6e2ac8986e4fc1bb7c046208e2dacd_0_21.mp4\n",
      "Renamed: seq3d_6e6e2ac8986e4fc1bb7c046208e2dacd_2_19_video0001-0060.mp4 to 6e6e2ac8986e4fc1bb7c046208e2dacd_2_19.mp4\n",
      "Renamed: seq3d_2b377b41fa82407ab1dbe63e0dd83cc2_1_12_video0001-0060.mp4 to 2b377b41fa82407ab1dbe63e0dd83cc2_1_12.mp4\n",
      "Renamed: seq3d_02d84a6901584cf9ab42cd07c1514731_1_5_video0001-0060.mp4 to 02d84a6901584cf9ab42cd07c1514731_1_5.mp4\n",
      "Renamed: seq3d_2b377b41fa82407ab1dbe63e0dd83cc2_0_12_video0001-0060.mp4 to 2b377b41fa82407ab1dbe63e0dd83cc2_0_12.mp4\n",
      "Renamed: seq3d_02d84a6901584cf9ab42cd07c1514731_3_6_video0001-0060.mp4 to 02d84a6901584cf9ab42cd07c1514731_3_6.mp4\n"
     ]
    }
   ],
   "source": [
    "dir_path = \"assets/diversity\"\n",
    "\n",
    "import os\n",
    "\n",
    "# sample_name = \"assets/videos/seq3d_4ccebf9f5036420f8b1f67779da45ae1_0_32_video0001-0060.mp4\"\n",
    "# 将目录下的名称替换为中间的id.mp4\n",
    "def rename_videos(directory):\n",
    "    for filename in os.listdir(directory):\n",
    "        if filename.endswith(\".mp4\"):\n",
    "            parts = filename.split('_')\n",
    "            if len(parts) >= 4:\n",
    "                new_name = f\"{parts[1]}_{parts[2]}_{parts[3]}.mp4\"\n",
    "                old_path = os.path.join(directory, filename)\n",
    "                new_path = os.path.join(directory, new_name)\n",
    "                os.rename(old_path, new_path)\n",
    "                print(f\"Renamed: {filename} to {new_name}\")\n",
    "\n",
    "rename_videos(dir_path)"
   ]
  }
 ],
 "metadata": {
  "kernelspec": {
   "display_name": "Python 3",
   "language": "python",
   "name": "python3"
  },
  "language_info": {
   "codemirror_mode": {
    "name": "ipython",
    "version": 3
   },
   "file_extension": ".py",
   "mimetype": "text/x-python",
   "name": "python",
   "nbconvert_exporter": "python",
   "pygments_lexer": "ipython3",
   "version": "3.10.12"
  }
 },
 "nbformat": 4,
 "nbformat_minor": 5
}
